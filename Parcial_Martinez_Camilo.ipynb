{
 "cells": [
  {
   "cell_type": "markdown",
   "metadata": {
    "application/vnd.databricks.v1+cell": {
     "cellMetadata": {
      "byteLimit": 2048000,
      "rowLimit": 10000
     },
     "inputWidgets": {},
     "nuid": "f4ea4b6f-0f81-4d27-918e-bcb7d9a5166c",
     "showTitle": false,
     "title": ""
    }
   },
   "source": [
    "\n",
    "###*Pontificia Universidad Javeriana*\n",
    "\n",
    "**Fecha**: 2 de octubre 2024\n",
    "\n",
    "**Profesor**: John Corredor, PhD\n",
    "\n",
    "**Materia**: Procesamiento de Alto Volumen de Datos\n",
    "\n",
    "**Objetivo**: Segundo Parcial **Modelo A**\n",
    "\n",
    "###**Nombre Estudiante**: Martinez Patiño, Camilo\n",
    "\n",
    "###**ID Estudiante**: 20439630"
   ]
  },
  {
   "cell_type": "markdown",
   "metadata": {
    "application/vnd.databricks.v1+cell": {
     "cellMetadata": {
      "byteLimit": 2048000,
      "rowLimit": 10000
     },
     "inputWidgets": {},
     "nuid": "7908876e-fbfb-4c49-b19a-d21497e7df77",
     "showTitle": false,
     "title": ""
    }
   },
   "source": [
    "**Contexto**\n",
    "- Se presenta un conjunto de datos (dataset) los cuales representan las ventas de productos en el año 2019\n",
    "- Cada dataset tiene los siguientes campos\n",
    "     \n",
    "      - ID Orden: identificador de orden de compra\n",
    "     \n",
    "      - Producto: Descripción de producto\n",
    "     \n",
    "      - Cantidad Ordenada: cantidad de productos del mismo tipo ordenados/pedidos/comprados\n",
    "     \n",
    "      - Precio Unitarios: valor comercial del producto\n",
    "     \n",
    "      - Fecha: fecha del producto vendido, formato: mes/día/año hora\n",
    "     \n",
    "      - Dirección de compra: dirección de venta del producto, formato: dirección, ciudad, iniciales del departamento\n",
    "\n",
    "- El conjunto de datos se ubica en la carpeta del [enlace](<https://github.com/corredor-john/ExploratoryDataAnalisys/tree/main/Ventas>)\n",
    "- A continuación de se presenta los pasos a seguir a para el desarrollo del parcial"
   ]
  },
  {
   "cell_type": "markdown",
   "metadata": {
    "application/vnd.databricks.v1+cell": {
     "cellMetadata": {
      "byteLimit": 2048000,
      "rowLimit": 10000
     },
     "inputWidgets": {},
     "nuid": "a7c334ff-0fb4-4de7-a542-43d91733db8f",
     "showTitle": false,
     "title": ""
    }
   },
   "source": [
    "##1. Cargar las bibliotecas necesarias y la sesión PYSPARK"
   ]
  },
  {
   "cell_type": "code",
   "execution_count": 0,
   "metadata": {
    "application/vnd.databricks.v1+cell": {
     "cellMetadata": {
      "byteLimit": 2048000,
      "rowLimit": 10000
     },
     "inputWidgets": {},
     "nuid": "77939459-6da8-4bbc-b7a5-96ea7c1c81f2",
     "showTitle": false,
     "title": ""
    }
   },
   "outputs": [],
   "source": [
    "#import findspark\n",
    "#findspark.init()\n",
    "\n",
    "import requests\n",
    "import io  \n",
    "\n",
    "import numpy as np\n",
    "import pandas as pd\n",
    "import seaborn as sns\n",
    "import matplotlib.pyplot as plt\n",
    "%matplotlib inline\n",
    "from matplotlib import rcParams\n",
    "#import squarify\n",
    "from sklearn.metrics import roc_curve, auc\n",
    "\n",
    "#Biblioteca PySpark\n",
    "import warnings\n",
    "import pyspark\n",
    "from pyspark.context import SparkContext\n",
    "from pyspark.sql import SparkSession\n",
    "from pyspark.sql.types import DoubleType, IntegerType\n",
    "from pyspark.sql import SQLContext\n",
    "from pyspark.sql.types import *\n",
    "from pyspark.sql.functions import input_file_name, mean, col, split, regexp_extract, when, lit, isnan, count, udf, isnan, month, to_timestamp, split, concat, avg\n",
    "from pyspark import SparkFiles\n",
    "\n",
    "#Bioblioteca ML para PySpark\n",
    "from pyspark.ml import Pipeline\n",
    "\n",
    "#Importar el SO\n",
    "from time import time\n",
    "from pyspark.conf import SparkConf\n",
    "import os"
   ]
  },
  {
   "cell_type": "markdown",
   "metadata": {
    "application/vnd.databricks.v1+cell": {
     "cellMetadata": {},
     "inputWidgets": {},
     "nuid": "6bd7cd27-3717-4bda-9af9-e249951d6318",
     "showTitle": false,
     "title": ""
    }
   },
   "source": [
    "Como se esta usando Databricks no es necesario crear la session de saprk de igual manera dejo el codigo\n"
   ]
  },
  {
   "cell_type": "code",
   "execution_count": 0,
   "metadata": {
    "application/vnd.databricks.v1+cell": {
     "cellMetadata": {},
     "inputWidgets": {},
     "nuid": "b6318771-cf52-404e-987e-c8bf98ce7cee",
     "showTitle": false,
     "title": ""
    }
   },
   "outputs": [],
   "source": [
    "#SPARK_MASTER_URL = os.getenv(\"SPARK_MASTER_URL\", \"spark://10.43.103.125:7077\")\n",
    "#configura = SparkConf()\n",
    "#configura.setMaster(SPARK_MASTER_URL)\n",
    "#configura.set('spark.local.dir', '/almacen')\n",
    "#configura.setAppName(\"PrimerSparkMartinez\")\n",
    "#spark = SparkSession.builder.config(conf=configura).getOrCreate()\n",
    "#SQLContext(sparkContext=spark.sparkContext, sparkSession=spark)\n",
    "#spark = spark.sparkContext\n",
    "\n",
    "### Revisar si El servicio esta vivo"
   ]
  },
  {
   "cell_type": "code",
   "execution_count": 0,
   "metadata": {
    "application/vnd.databricks.v1+cell": {
     "cellMetadata": {
      "byteLimit": 2048000,
      "rowLimit": 10000
     },
     "inputWidgets": {},
     "nuid": "93c5a85c-1d5e-4f71-bf5a-95b5928c1b07",
     "showTitle": false,
     "title": ""
    }
   },
   "outputs": [
    {
     "data": {
      "text/html": [
       "\n",
       "            <div>\n",
       "                <p><b>SparkSession - hive</b></p>\n",
       "                \n",
       "        <div>\n",
       "            <p><b>SparkContext</b></p>\n",
       "\n",
       "            <p><a href=\"/?o=2611590506635999#setting/sparkui/1008-203528-4eos44gx/driver-6528400867403644118\">Spark UI</a></p>\n",
       "\n",
       "            <dl>\n",
       "              <dt>Version</dt>\n",
       "                <dd><code>v3.3.2</code></dd>\n",
       "              <dt>Master</dt>\n",
       "                <dd><code>local[8]</code></dd>\n",
       "              <dt>AppName</dt>\n",
       "                <dd><code>Databricks Shell</code></dd>\n",
       "            </dl>\n",
       "        </div>\n",
       "        \n",
       "            </div>\n",
       "        "
      ]
     },
     "metadata": {
      "application/vnd.databricks.v1+output": {
       "addedWidgets": {},
       "arguments": {},
       "data": "\n            <div>\n                <p><b>SparkSession - hive</b></p>\n                \n        <div>\n            <p><b>SparkContext</b></p>\n\n            <p><a href=\"/?o=2611590506635999#setting/sparkui/1008-203528-4eos44gx/driver-6528400867403644118\">Spark UI</a></p>\n\n            <dl>\n              <dt>Version</dt>\n                <dd><code>v3.3.2</code></dd>\n              <dt>Master</dt>\n                <dd><code>local[8]</code></dd>\n              <dt>AppName</dt>\n                <dd><code>Databricks Shell</code></dd>\n            </dl>\n        </div>\n        \n            </div>\n        ",
       "datasetInfos": [],
       "metadata": {},
       "removedWidgets": [],
       "textData": null,
       "type": "htmlSandbox"
      }
     },
     "output_type": "display_data"
    }
   ],
   "source": [
    "spark"
   ]
  },
  {
   "cell_type": "markdown",
   "metadata": {
    "application/vnd.databricks.v1+cell": {
     "cellMetadata": {
      "byteLimit": 2048000,
      "rowLimit": 10000
     },
     "inputWidgets": {},
     "nuid": "c263a600-c213-4786-a358-595380c11af3",
     "showTitle": false,
     "title": ""
    }
   },
   "source": [
    "##2. DataFrame PySpark (10 pts)\n",
    "####2.1.- Crear un dataframe PySpark con los conjuntos de datos de la carpeta dada en el enlace"
   ]
  },
  {
   "cell_type": "code",
   "execution_count": 0,
   "metadata": {
    "application/vnd.databricks.v1+cell": {
     "cellMetadata": {
      "byteLimit": 2048000,
      "rowLimit": 10000
     },
     "inputWidgets": {},
     "nuid": "efc51c35-4a4e-42ec-9cef-922c6bc3ef58",
     "showTitle": false,
     "title": ""
    }
   },
   "outputs": [
    {
     "name": "stdout",
     "output_type": "stream",
     "text": [
      "root\n",
      " |-- ID Orden: string (nullable = true)\n",
      " |-- Producto : string (nullable = true)\n",
      " |--  Cantidad Ordenada: string (nullable = true)\n",
      " |-- Precio Unitario : string (nullable = true)\n",
      " |-- Fecha: string (nullable = true)\n",
      " |-- Dirección de Compra: string (nullable = true)\n",
      "\n",
      "+--------+--------------------+------------------+----------------+--------------+--------------------+\n",
      "|ID Orden|           Producto | Cantidad Ordenada|Precio Unitario |         Fecha| Dirección de Compra|\n",
      "+--------+--------------------+------------------+----------------+--------------+--------------------+\n",
      "|  171346|Cable de Carga US...|                 1|           46900|04/04/19 19:25|631 calle Boyacá,...|\n",
      "|  171347|Parlante Google H...|                 1|          159900|04/19/19 07:19|546 calle 5ta, Me...|\n",
      "|  171348|AAA Batteries (4-...|                 1|           12990|04/22/19 22:41|593 calle 8va, Ma...|\n",
      "|  171349|Cable de Carga US...|                 1|           46900|04/09/19 04:59|571 calle 4ta, Me...|\n",
      "|  171350|Cable de Carga US...|                 1|           46900|04/18/19 09:36|883 calle Madison...|\n",
      "|  171351|Cable de Carga Li...|                 1|           64900|04/21/19 16:44|988 calle Avenida...|\n",
      "|  171352|Cable de Carga Li...|                 1|           64900|04/23/19 09:20|568 calle Rivera,...|\n",
      "|  171353|Asus VivoBook X42...|                 1|         1950900|04/20/19 13:18|773 calle Carrera...|\n",
      "|  171354|Cable de Carga US...|                 1|           46900|04/17/19 17:52|857 calle Pinar, ...|\n",
      "|  171355|Cable de Carga US...|                 1|           46900|04/20/19 10:42|132 calle Pinar, ...|\n",
      "|  171356|Audifonos Apple A...|                 1|          499900|04/12/19 22:51|58 calle Transver...|\n",
      "|  171357|Cable de Carga Li...|                 1|           64900|04/08/19 22:21|344 calle Cherry,...|\n",
      "|  171358|Macbook Air MQD32...|                 1|         2799000|04/02/19 21:00|683 calle Madison...|\n",
      "|  171359|Parlante Google H...|                 1|          159900|04/11/19 01:19|478 calle America...|\n",
      "|  171360|AAA Batteries (4-...|                 1|           12990|04/09/19 13:33|855 calle 5ta, Ca...|\n",
      "|  171361|Horno Microondas ...|                 1|          309900|04/02/19 10:51|602 calle Diagona...|\n",
      "|  171362| Samsung Galaxy A302|                 1|          649900|04/17/19 00:51|345 calle 14va, C...|\n",
      "|  171363|AAA Batteries (4-...|                 1|           12990|04/10/19 13:35|678 calle Kennedy...|\n",
      "|  171364|Cable de Carga US...|                 1|           46900|04/20/19 14:54|721 calle 4ta, Bo...|\n",
      "|  171365|Motorola G8 Plus Red|                 1|          729900|04/18/19 16:06|134 calle Cherry,...|\n",
      "+--------+--------------------+------------------+----------------+--------------+--------------------+\n",
      "only showing top 20 rows\n",
      "\n"
     ]
    }
   ],
   "source": [
    "#Creo un lista con las direcciónes de los datos\n",
    "urls = [\"https://raw.githubusercontent.com/corredor-john/ExploratoryDataAnalisys/refs/heads/main/Ventas/Ventas_April_2019.csv\",\n",
    "        \"https://raw.githubusercontent.com/corredor-john/ExploratoryDataAnalisys/refs/heads/main/Ventas/Ventas_August_2019.csv\",\n",
    "        \"https://raw.githubusercontent.com/corredor-john/ExploratoryDataAnalisys/refs/heads/main/Ventas/Ventas_December_2019.csv\",\n",
    "        \"https://raw.githubusercontent.com/corredor-john/ExploratoryDataAnalisys/refs/heads/main/Ventas/Ventas_February_2019.csv\",\n",
    "        \"https://raw.githubusercontent.com/corredor-john/ExploratoryDataAnalisys/refs/heads/main/Ventas/Ventas_January_2019.csv\",\n",
    "        \"https://raw.githubusercontent.com/corredor-john/ExploratoryDataAnalisys/refs/heads/main/Ventas/Ventas_July_2019.csv\",\n",
    "        \"https://raw.githubusercontent.com/corredor-john/ExploratoryDataAnalisys/refs/heads/main/Ventas/Ventas_June_2019.csv\",\n",
    "        \"https://raw.githubusercontent.com/corredor-john/ExploratoryDataAnalisys/refs/heads/main/Ventas/Ventas_March_2019.csv\",\n",
    "        \"https://raw.githubusercontent.com/corredor-john/ExploratoryDataAnalisys/refs/heads/main/Ventas/Ventas_May_2019.csv\",\n",
    "        \"https://raw.githubusercontent.com/corredor-john/ExploratoryDataAnalisys/refs/heads/main/Ventas/Ventas_November_2019.csv\",\n",
    "        \"https://raw.githubusercontent.com/corredor-john/ExploratoryDataAnalisys/refs/heads/main/Ventas/Ventas_October_2019.csv\",\n",
    "        \"https://raw.githubusercontent.com/corredor-john/ExploratoryDataAnalisys/refs/heads/main/Ventas/Ventas_September_2019.csv\"]\n",
    "# Crear una lista para almacenar los DataFrames\n",
    "dfs = []\n",
    "\n",
    "# Iterar sobre cada URL\n",
    "for url in urls:\n",
    "    # Descargar el contenido del archivo\n",
    "    contenido = requests.get(url).content\n",
    "    \n",
    "    # Convertir el contenido en un DataFrame usando io.StringIO\n",
    "    df = pd.read_csv(io.StringIO(contenido.decode('utf-8')))\n",
    "    \n",
    "    # Limpiar los nombres de columnas eliminando espacios innecesarios\n",
    "    \n",
    "    dfs.append(df)\n",
    "\n",
    "# Concatenar todos los DataFrames en uno solo con pandas\n",
    "df_pandas_total = pd.concat(dfs, ignore_index=True)\n",
    "\n",
    "# Convertir el DataFrame de pandas a un DataFrame de Spark\n",
    "df_spark_total = spark.createDataFrame(df_pandas_total)\n",
    "# Concatenar todos los DataFrames en uno solo con pandas\n",
    "df_pandas_total = pd.concat(dfs, ignore_index=True)\n",
    "\n",
    "# Convertir el DataFrame de pandas a un DataFrame de Spark\n",
    "df_spark_total = spark.createDataFrame(df_pandas_total)\n",
    "\n",
    "# mostrar algunas filas del DataFrame en Spark\n",
    "df_spark_total.show()"
   ]
  },
  {
   "cell_type": "code",
   "execution_count": 0,
   "metadata": {
    "application/vnd.databricks.v1+cell": {
     "cellMetadata": {
      "byteLimit": 2048000,
      "rowLimit": 10000
     },
     "inputWidgets": {},
     "nuid": "3ecd2632-a256-4b32-91cc-7b53e79a665b",
     "showTitle": false,
     "title": ""
    }
   },
   "outputs": [
    {
     "name": "stdout",
     "output_type": "stream",
     "text": [
      "Out[4]: ['ID Orden',\n",
      " 'Producto ',\n",
      " ' Cantidad Ordenada',\n",
      " 'Precio Unitario ',\n",
      " 'Fecha',\n",
      " 'Dirección de Compra']"
     ]
    }
   ],
   "source": [
    "df_spark_total.columns"
   ]
  },
  {
   "cell_type": "markdown",
   "metadata": {
    "application/vnd.databricks.v1+cell": {
     "cellMetadata": {
      "byteLimit": 2048000,
      "rowLimit": 10000
     },
     "inputWidgets": {},
     "nuid": "509e58fd-13ae-4cea-84d7-5d9b7857f0de",
     "showTitle": false,
     "title": ""
    }
   },
   "source": [
    "####2.2.- Presentar el tipo de datos del dataframe spark (5 pts)"
   ]
  },
  {
   "cell_type": "code",
   "execution_count": 0,
   "metadata": {
    "application/vnd.databricks.v1+cell": {
     "cellMetadata": {
      "byteLimit": 2048000,
      "rowLimit": 10000
     },
     "inputWidgets": {},
     "nuid": "afe4aae0-d48d-4cfb-bc21-3aee9d29c54b",
     "showTitle": false,
     "title": ""
    }
   },
   "outputs": [
    {
     "name": "stdout",
     "output_type": "stream",
     "text": [
      "root\n",
      " |-- ID Orden: string (nullable = true)\n",
      " |-- Producto : string (nullable = true)\n",
      " |--  Cantidad Ordenada: string (nullable = true)\n",
      " |-- Precio Unitario : string (nullable = true)\n",
      " |-- Fecha: string (nullable = true)\n",
      " |-- Dirección de Compra: string (nullable = true)\n",
      "\n"
     ]
    }
   ],
   "source": [
    "df_spark_total.printSchema()"
   ]
  },
  {
   "cell_type": "markdown",
   "metadata": {
    "application/vnd.databricks.v1+cell": {
     "cellMetadata": {
      "byteLimit": 2048000,
      "rowLimit": 10000
     },
     "inputWidgets": {},
     "nuid": "c5029b61-b6e3-4d46-805f-f71c37a3a119",
     "showTitle": false,
     "title": ""
    }
   },
   "source": [
    "####2.3.-Se requiere cambiar los nombres de las columnas: (3 pts)\n",
    "  - 'Producto '->'Producto'\n",
    "  - ' Cantidad Ordenada'->'Cantidad'\n",
    "  - 'Precio Unitario '->'Precio_Unitario'"
   ]
  },
  {
   "cell_type": "code",
   "execution_count": 0,
   "metadata": {
    "application/vnd.databricks.v1+cell": {
     "cellMetadata": {
      "byteLimit": 2048000,
      "rowLimit": 10000
     },
     "inputWidgets": {},
     "nuid": "b229d93a-f6bb-47d5-bde9-b765aa069594",
     "showTitle": false,
     "title": ""
    }
   },
   "outputs": [],
   "source": [
    "# Renombrar las columnas específicas usando withColumnRenamed en Spark\n",
    "df_spark_total = df_spark_total.withColumnRenamed('Producto ', 'Producto') \\\n",
    "                               .withColumnRenamed(' Cantidad Ordenada', 'Cantidad') \\\n",
    "                               .withColumnRenamed('Precio Unitario ', 'Precio_Unitario') \\\n",
    "                                .withColumnRenamed('ID Orden','ID_Orden')"
   ]
  },
  {
   "cell_type": "code",
   "execution_count": 0,
   "metadata": {
    "application/vnd.databricks.v1+cell": {
     "cellMetadata": {
      "byteLimit": 2048000,
      "rowLimit": 10000
     },
     "inputWidgets": {},
     "nuid": "cb761066-888b-4ed4-81f4-a84646ddd7ff",
     "showTitle": false,
     "title": ""
    }
   },
   "outputs": [
    {
     "name": "stdout",
     "output_type": "stream",
     "text": [
      "Out[7]: ['ID_Orden',\n",
      " 'Producto',\n",
      " 'Cantidad',\n",
      " 'Precio_Unitario',\n",
      " 'Fecha',\n",
      " 'Dirección de Compra']"
     ]
    }
   ],
   "source": [
    "df_spark_total.columns"
   ]
  },
  {
   "cell_type": "markdown",
   "metadata": {
    "application/vnd.databricks.v1+cell": {
     "cellMetadata": {
      "byteLimit": 2048000,
      "rowLimit": 10000
     },
     "inputWidgets": {},
     "nuid": "12b315e4-1c6b-4206-a848-7b919fc35712",
     "showTitle": false,
     "title": ""
    }
   },
   "source": [
    "####2.4.- Convertir las columnas requeridas a los tipos de datos correspondientes (2 pts)"
   ]
  },
  {
   "cell_type": "code",
   "execution_count": 0,
   "metadata": {
    "application/vnd.databricks.v1+cell": {
     "cellMetadata": {
      "byteLimit": 2048000,
      "rowLimit": 10000
     },
     "inputWidgets": {},
     "nuid": "8b12e6a3-6d69-475f-81b0-70615870d813",
     "showTitle": false,
     "title": ""
    }
   },
   "outputs": [],
   "source": []
  },
  {
   "cell_type": "code",
   "execution_count": 0,
   "metadata": {
    "application/vnd.databricks.v1+cell": {
     "cellMetadata": {
      "byteLimit": 2048000,
      "rowLimit": 10000
     },
     "inputWidgets": {},
     "nuid": "185b4719-728f-44c8-b469-9a5b4638f2b7",
     "showTitle": false,
     "title": ""
    }
   },
   "outputs": [
    {
     "name": "stdout",
     "output_type": "stream",
     "text": [
      "root\n",
      " |-- ID_Orden: integer (nullable = true)\n",
      " |-- Producto: string (nullable = true)\n",
      " |-- Cantidad: integer (nullable = true)\n",
      " |-- Precio_Unitario: double (nullable = true)\n",
      " |-- Fecha: timestamp (nullable = true)\n",
      " |-- Dirección de Compra: string (nullable = true)\n",
      "\n"
     ]
    }
   ],
   "source": [
    "df00 = df_spark_total\n",
    "#df00.printSchema()\n",
    "df00 = df00.withColumn(\"Cantidad\", col(\"Cantidad\").cast(DoubleType())) \\\n",
    "    .withColumn(\"Precio_Unitario\", col(\"Precio_Unitario\").cast(DoubleType()))\\\n",
    "        .withColumn(\"Cantidad\", col(\"Cantidad\").cast(IntegerType()))\\\n",
    "            .withColumn(\"ID_Orden\", col(\"ID_Orden\").cast(IntegerType()))\\\n",
    "                .withColumn('Fecha', to_timestamp(df00['Fecha'], 'MM/dd/yy HH:mm'))\n",
    "                \n",
    "                \n",
    "\n",
    "                                \n",
    "df00.printSchema()"
   ]
  },
  {
   "cell_type": "markdown",
   "metadata": {
    "application/vnd.databricks.v1+cell": {
     "cellMetadata": {
      "byteLimit": 2048000,
      "rowLimit": 10000
     },
     "inputWidgets": {},
     "nuid": "5fe982f1-2369-409c-b3d2-016274bd5e68",
     "showTitle": false,
     "title": ""
    }
   },
   "source": [
    "##3.- Creación de variables: derivación de variables *(20pts)*"
   ]
  },
  {
   "cell_type": "markdown",
   "metadata": {
    "application/vnd.databricks.v1+cell": {
     "cellMetadata": {
      "byteLimit": 2048000,
      "rowLimit": 10000
     },
     "inputWidgets": {},
     "nuid": "835bd32e-51ec-431c-9655-932ee9f10bb0",
     "showTitle": false,
     "title": ""
    }
   },
   "source": [
    "####3.1.-Se requiere Crear nueva columna **Mes** a partir de la columna *Fecha* (5 pts)"
   ]
  },
  {
   "cell_type": "code",
   "execution_count": 0,
   "metadata": {
    "application/vnd.databricks.v1+cell": {
     "cellMetadata": {
      "byteLimit": 2048000,
      "rowLimit": 10000
     },
     "inputWidgets": {},
     "nuid": "f1f995ff-06db-4187-8389-0832ee77a87b",
     "showTitle": false,
     "title": ""
    }
   },
   "outputs": [
    {
     "name": "stdout",
     "output_type": "stream",
     "text": [
      "Out[9]: ['ID_Orden',\n",
      " 'Producto',\n",
      " 'Cantidad',\n",
      " 'Precio_Unitario',\n",
      " 'Fecha',\n",
      " 'Dirección de Compra']"
     ]
    }
   ],
   "source": [
    "df01 = df00\n",
    "df01.columns"
   ]
  },
  {
   "cell_type": "code",
   "execution_count": 0,
   "metadata": {
    "application/vnd.databricks.v1+cell": {
     "cellMetadata": {
      "byteLimit": 2048000,
      "rowLimit": 10000
     },
     "inputWidgets": {},
     "nuid": "2cee0d9b-101e-4823-b774-259456d182f5",
     "showTitle": false,
     "title": ""
    }
   },
   "outputs": [
    {
     "name": "stdout",
     "output_type": "stream",
     "text": [
      "+--------+--------------------+--------+---------------+-------------------+--------------------+---+\n",
      "|ID_Orden|            Producto|Cantidad|Precio_Unitario|              Fecha| Dirección de Compra|Mes|\n",
      "+--------+--------------------+--------+---------------+-------------------+--------------------+---+\n",
      "|  171346|Cable de Carga US...|       1|        46900.0|2019-04-04 19:25:00|631 calle Boyacá,...|  4|\n",
      "|  171347|Parlante Google H...|       1|       159900.0|2019-04-19 07:19:00|546 calle 5ta, Me...|  4|\n",
      "|  171348|AAA Batteries (4-...|       1|        12990.0|2019-04-22 22:41:00|593 calle 8va, Ma...|  4|\n",
      "|  171349|Cable de Carga US...|       1|        46900.0|2019-04-09 04:59:00|571 calle 4ta, Me...|  4|\n",
      "|  171350|Cable de Carga US...|       1|        46900.0|2019-04-18 09:36:00|883 calle Madison...|  4|\n",
      "|  171351|Cable de Carga Li...|       1|        64900.0|2019-04-21 16:44:00|988 calle Avenida...|  4|\n",
      "|  171352|Cable de Carga Li...|       1|        64900.0|2019-04-23 09:20:00|568 calle Rivera,...|  4|\n",
      "|  171353|Asus VivoBook X42...|       1|      1950900.0|2019-04-20 13:18:00|773 calle Carrera...|  4|\n",
      "|  171354|Cable de Carga US...|       1|        46900.0|2019-04-17 17:52:00|857 calle Pinar, ...|  4|\n",
      "|  171355|Cable de Carga US...|       1|        46900.0|2019-04-20 10:42:00|132 calle Pinar, ...|  4|\n",
      "|  171356|Audifonos Apple A...|       1|       499900.0|2019-04-12 22:51:00|58 calle Transver...|  4|\n",
      "|  171357|Cable de Carga Li...|       1|        64900.0|2019-04-08 22:21:00|344 calle Cherry,...|  4|\n",
      "|  171358|Macbook Air MQD32...|       1|      2799000.0|2019-04-02 21:00:00|683 calle Madison...|  4|\n",
      "|  171359|Parlante Google H...|       1|       159900.0|2019-04-11 01:19:00|478 calle America...|  4|\n",
      "|  171360|AAA Batteries (4-...|       1|        12990.0|2019-04-09 13:33:00|855 calle 5ta, Ca...|  4|\n",
      "|  171361|Horno Microondas ...|       1|       309900.0|2019-04-02 10:51:00|602 calle Diagona...|  4|\n",
      "|  171362| Samsung Galaxy A302|       1|       649900.0|2019-04-17 00:51:00|345 calle 14va, C...|  4|\n",
      "|  171363|AAA Batteries (4-...|       1|        12990.0|2019-04-10 13:35:00|678 calle Kennedy...|  4|\n",
      "|  171364|Cable de Carga US...|       1|        46900.0|2019-04-20 14:54:00|721 calle 4ta, Bo...|  4|\n",
      "|  171365|Motorola G8 Plus Red|       1|       729900.0|2019-04-18 16:06:00|134 calle Cherry,...|  4|\n",
      "+--------+--------------------+--------+---------------+-------------------+--------------------+---+\n",
      "only showing top 20 rows\n",
      "\n"
     ]
    }
   ],
   "source": [
    "# Crear la nueva columna 'Mes'\n",
    "df01 = df01.withColumn('Mes', month(df01['Fecha']))\n",
    "\n",
    "# Mostrar el DataFrame resultante\n",
    "df01.show()\n"
   ]
  },
  {
   "cell_type": "markdown",
   "metadata": {
    "application/vnd.databricks.v1+cell": {
     "cellMetadata": {
      "byteLimit": 2048000,
      "rowLimit": 10000
     },
     "inputWidgets": {},
     "nuid": "bde22dc5-eadb-4aa4-ad96-fedac64a454b",
     "showTitle": false,
     "title": ""
    }
   },
   "source": [
    "####3.2.-Se requiere Crear 3 nuevas columnas (**Dirección**, **Ciudad**, **Departamento**) a partir de la columna *Dirección de Compra* (5 pts)"
   ]
  },
  {
   "cell_type": "code",
   "execution_count": 0,
   "metadata": {
    "application/vnd.databricks.v1+cell": {
     "cellMetadata": {
      "byteLimit": 2048000,
      "rowLimit": 10000
     },
     "inputWidgets": {},
     "nuid": "d585f7f6-9552-43ca-bffc-1f2baabab76c",
     "showTitle": false,
     "title": ""
    }
   },
   "outputs": [
    {
     "name": "stdout",
     "output_type": "stream",
     "text": [
      "+--------+--------------------+--------+---------------+-------------------+--------------------+---+--------------------+----------+------------+\n",
      "|ID_Orden|            Producto|Cantidad|Precio_Unitario|              Fecha| Dirección de Compra|Mes|           Dirección|    Ciudad|Departamento|\n",
      "+--------+--------------------+--------+---------------+-------------------+--------------------+---+--------------------+----------+------------+\n",
      "|  171346|Cable de Carga US...|       1|        46900.0|2019-04-04 19:25:00|631 calle Boyacá,...|  4|    631 calle Boyacá|   Armenia|          QU|\n",
      "|  171347|Parlante Google H...|       1|       159900.0|2019-04-19 07:19:00|546 calle 5ta, Me...|  4|       546 calle 5ta|  Medellin|          AN|\n",
      "|  171348|AAA Batteries (4-...|       1|        12990.0|2019-04-22 22:41:00|593 calle 8va, Ma...|  4|       593 calle 8va| Manizalez|          CA|\n",
      "|  171349|Cable de Carga US...|       1|        46900.0|2019-04-09 04:59:00|571 calle 4ta, Me...|  4|       571 calle 4ta|  Medellin|          AN|\n",
      "|  171350|Cable de Carga US...|       1|        46900.0|2019-04-18 09:36:00|883 calle Madison...|  4|   883 calle Madison|     Neiva|          HU|\n",
      "|  171351|Cable de Carga Li...|       1|        64900.0|2019-04-21 16:44:00|988 calle Avenida...|  4|   988 calle Avenida|   Armenia|          QU|\n",
      "|  171352|Cable de Carga Li...|       1|        64900.0|2019-04-23 09:20:00|568 calle Rivera,...|  4|    568 calle Rivera|    Ibagué|          TO|\n",
      "|  171353|Asus VivoBook X42...|       1|      1950900.0|2019-04-20 13:18:00|773 calle Carrera...|  4|   773 calle Carrera|  Medellin|          AN|\n",
      "|  171354|Cable de Carga US...|       1|        46900.0|2019-04-17 17:52:00|857 calle Pinar, ...|  4|     857 calle Pinar|    Bogotá|          CU|\n",
      "|  171355|Cable de Carga US...|       1|        46900.0|2019-04-20 10:42:00|132 calle Pinar, ...|  4|     132 calle Pinar|   Armenia|          QU|\n",
      "|  171356|Audifonos Apple A...|       1|       499900.0|2019-04-12 22:51:00|58 calle Transver...|  4|58 calle Transversal|      Cali|          VC|\n",
      "|  171357|Cable de Carga Li...|       1|        64900.0|2019-04-08 22:21:00|344 calle Cherry,...|  4|    344 calle Cherry|  Medellin|          AN|\n",
      "|  171358|Macbook Air MQD32...|       1|      2799000.0|2019-04-02 21:00:00|683 calle Madison...|  4|   683 calle Madison|  Medellin|          AN|\n",
      "|  171359|Parlante Google H...|       1|       159900.0|2019-04-11 01:19:00|478 calle America...|  4|  478 calle Americas|      Cali|          VC|\n",
      "|  171360|AAA Batteries (4-...|       1|        12990.0|2019-04-09 13:33:00|855 calle 5ta, Ca...|  4|       855 calle 5ta|      Cali|          VC|\n",
      "|  171361|Horno Microondas ...|       1|       309900.0|2019-04-02 10:51:00|602 calle Diagona...|  4|  602 calle Diagonal|    Cúcuta|          NS|\n",
      "|  171362| Samsung Galaxy A302|       1|       649900.0|2019-04-17 00:51:00|345 calle 14va, C...|  4|      345 calle 14va|      Cali|          VC|\n",
      "|  171363|AAA Batteries (4-...|       1|        12990.0|2019-04-10 13:35:00|678 calle Kennedy...|  4|   678 calle Kennedy|    Cúcuta|          NS|\n",
      "|  171364|Cable de Carga US...|       1|        46900.0|2019-04-20 14:54:00|721 calle 4ta, Bo...|  4|       721 calle 4ta|    Bogotá|          CU|\n",
      "|  171365|Motorola G8 Plus Red|       1|       729900.0|2019-04-18 16:06:00|134 calle Cherry,...|  4|    134 calle Cherry|    Ibagué|          TO|\n",
      "+--------+--------------------+--------+---------------+-------------------+--------------------+---+--------------------+----------+------------+\n",
      "only showing top 20 rows\n",
      "\n"
     ]
    }
   ],
   "source": [
    "df02 = df01\n",
    "\n",
    "# Dividir la columna 'Dirección de Compra' en partes\n",
    "# Asumiendo que el formato es \"Dirección, Ciudad, Departamento\"\n",
    "df02 = df02.withColumn('Dirección', split(df02['Dirección de Compra'], ',').getItem(0)) \\\n",
    "            .withColumn('Ciudad', split(df02['Dirección de Compra'], ',').getItem(1)) \\\n",
    "            .withColumn('Departamento', split(df02['Dirección de Compra'], ',').getItem(2))\n",
    "\n",
    "# Mostrar el DataFrame resultante\n",
    "df02.show()\n"
   ]
  },
  {
   "cell_type": "code",
   "execution_count": 0,
   "metadata": {
    "application/vnd.databricks.v1+cell": {
     "cellMetadata": {
      "byteLimit": 2048000,
      "rowLimit": 10000
     },
     "inputWidgets": {},
     "nuid": "116a09e7-fd4b-4f0f-9cd3-656da1e859a8",
     "showTitle": false,
     "title": ""
    }
   },
   "outputs": [
    {
     "name": "stdout",
     "output_type": "stream",
     "text": [
      "Out[12]: ['ID_Orden',\n",
      " 'Producto',\n",
      " 'Cantidad',\n",
      " 'Precio_Unitario',\n",
      " 'Fecha',\n",
      " 'Dirección de Compra',\n",
      " 'Mes',\n",
      " 'Dirección',\n",
      " 'Ciudad',\n",
      " 'Departamento']"
     ]
    }
   ],
   "source": [
    "df02.columns"
   ]
  },
  {
   "cell_type": "markdown",
   "metadata": {
    "application/vnd.databricks.v1+cell": {
     "cellMetadata": {
      "byteLimit": 2048000,
      "rowLimit": 10000
     },
     "inputWidgets": {},
     "nuid": "7f8b3051-2737-4a2d-a081-c93b9908796e",
     "showTitle": false,
     "title": ""
    }
   },
   "source": [
    "####3.3.-Se requiere crear una nueva columna 'Ciudad(Departamento)', a partir de las columnas Ciudad y Departamento (5 pts)"
   ]
  },
  {
   "cell_type": "code",
   "execution_count": 0,
   "metadata": {
    "application/vnd.databricks.v1+cell": {
     "cellMetadata": {
      "byteLimit": 2048000,
      "rowLimit": 10000
     },
     "inputWidgets": {},
     "nuid": "c7ee2eae-976d-4697-bc65-f61361e82519",
     "showTitle": false,
     "title": ""
    }
   },
   "outputs": [
    {
     "name": "stdout",
     "output_type": "stream",
     "text": [
      "+--------+--------------------+--------+---------------+-------------------+--------------------+---+--------------------+----------+------------+--------------------+\n",
      "|ID_Orden|            Producto|Cantidad|Precio_Unitario|              Fecha| Dirección de Compra|Mes|           Dirección|    Ciudad|Departamento|Ciudad(Departamento)|\n",
      "+--------+--------------------+--------+---------------+-------------------+--------------------+---+--------------------+----------+------------+--------------------+\n",
      "|  171346|Cable de Carga US...|       1|        46900.0|2019-04-04 19:25:00|631 calle Boyacá,...|  4|    631 calle Boyacá|   Armenia|          QU|        Armenia( QU)|\n",
      "|  171347|Parlante Google H...|       1|       159900.0|2019-04-19 07:19:00|546 calle 5ta, Me...|  4|       546 calle 5ta|  Medellin|          AN|       Medellin( AN)|\n",
      "|  171348|AAA Batteries (4-...|       1|        12990.0|2019-04-22 22:41:00|593 calle 8va, Ma...|  4|       593 calle 8va| Manizalez|          CA|      Manizalez( CA)|\n",
      "|  171349|Cable de Carga US...|       1|        46900.0|2019-04-09 04:59:00|571 calle 4ta, Me...|  4|       571 calle 4ta|  Medellin|          AN|       Medellin( AN)|\n",
      "|  171350|Cable de Carga US...|       1|        46900.0|2019-04-18 09:36:00|883 calle Madison...|  4|   883 calle Madison|     Neiva|          HU|          Neiva( HU)|\n",
      "|  171351|Cable de Carga Li...|       1|        64900.0|2019-04-21 16:44:00|988 calle Avenida...|  4|   988 calle Avenida|   Armenia|          QU|        Armenia( QU)|\n",
      "|  171352|Cable de Carga Li...|       1|        64900.0|2019-04-23 09:20:00|568 calle Rivera,...|  4|    568 calle Rivera|    Ibagué|          TO|         Ibagué( TO)|\n",
      "|  171353|Asus VivoBook X42...|       1|      1950900.0|2019-04-20 13:18:00|773 calle Carrera...|  4|   773 calle Carrera|  Medellin|          AN|       Medellin( AN)|\n",
      "|  171354|Cable de Carga US...|       1|        46900.0|2019-04-17 17:52:00|857 calle Pinar, ...|  4|     857 calle Pinar|    Bogotá|          CU|         Bogotá( CU)|\n",
      "|  171355|Cable de Carga US...|       1|        46900.0|2019-04-20 10:42:00|132 calle Pinar, ...|  4|     132 calle Pinar|   Armenia|          QU|        Armenia( QU)|\n",
      "|  171356|Audifonos Apple A...|       1|       499900.0|2019-04-12 22:51:00|58 calle Transver...|  4|58 calle Transversal|      Cali|          VC|           Cali( VC)|\n",
      "|  171357|Cable de Carga Li...|       1|        64900.0|2019-04-08 22:21:00|344 calle Cherry,...|  4|    344 calle Cherry|  Medellin|          AN|       Medellin( AN)|\n",
      "|  171358|Macbook Air MQD32...|       1|      2799000.0|2019-04-02 21:00:00|683 calle Madison...|  4|   683 calle Madison|  Medellin|          AN|       Medellin( AN)|\n",
      "|  171359|Parlante Google H...|       1|       159900.0|2019-04-11 01:19:00|478 calle America...|  4|  478 calle Americas|      Cali|          VC|           Cali( VC)|\n",
      "|  171360|AAA Batteries (4-...|       1|        12990.0|2019-04-09 13:33:00|855 calle 5ta, Ca...|  4|       855 calle 5ta|      Cali|          VC|           Cali( VC)|\n",
      "|  171361|Horno Microondas ...|       1|       309900.0|2019-04-02 10:51:00|602 calle Diagona...|  4|  602 calle Diagonal|    Cúcuta|          NS|         Cúcuta( NS)|\n",
      "|  171362| Samsung Galaxy A302|       1|       649900.0|2019-04-17 00:51:00|345 calle 14va, C...|  4|      345 calle 14va|      Cali|          VC|           Cali( VC)|\n",
      "|  171363|AAA Batteries (4-...|       1|        12990.0|2019-04-10 13:35:00|678 calle Kennedy...|  4|   678 calle Kennedy|    Cúcuta|          NS|         Cúcuta( NS)|\n",
      "|  171364|Cable de Carga US...|       1|        46900.0|2019-04-20 14:54:00|721 calle 4ta, Bo...|  4|       721 calle 4ta|    Bogotá|          CU|         Bogotá( CU)|\n",
      "|  171365|Motorola G8 Plus Red|       1|       729900.0|2019-04-18 16:06:00|134 calle Cherry,...|  4|    134 calle Cherry|    Ibagué|          TO|         Ibagué( TO)|\n",
      "+--------+--------------------+--------+---------------+-------------------+--------------------+---+--------------------+----------+------------+--------------------+\n",
      "only showing top 20 rows\n",
      "\n"
     ]
    }
   ],
   "source": [
    "# Crear la nueva columna 'Ciudad(Departamento)' concatenando 'Ciudad' y 'Departamento'\n",
    "df02 = df02.withColumn('Ciudad(Departamento)', concat(col('Ciudad'), lit('('), col('Departamento'), lit(')')))\n",
    "df02.show()"
   ]
  },
  {
   "cell_type": "code",
   "execution_count": 0,
   "metadata": {
    "application/vnd.databricks.v1+cell": {
     "cellMetadata": {
      "byteLimit": 2048000,
      "rowLimit": 10000
     },
     "inputWidgets": {},
     "nuid": "4cd7a219-7f41-43a0-a143-60466469a35d",
     "showTitle": false,
     "title": ""
    }
   },
   "outputs": [
    {
     "name": "stdout",
     "output_type": "stream",
     "text": [
      "Out[14]: ['ID_Orden',\n",
      " 'Producto',\n",
      " 'Cantidad',\n",
      " 'Precio_Unitario',\n",
      " 'Fecha',\n",
      " 'Dirección de Compra',\n",
      " 'Mes',\n",
      " 'Dirección',\n",
      " 'Ciudad',\n",
      " 'Departamento',\n",
      " 'Ciudad(Departamento)']"
     ]
    }
   ],
   "source": [
    "df02.columns"
   ]
  },
  {
   "cell_type": "markdown",
   "metadata": {
    "application/vnd.databricks.v1+cell": {
     "cellMetadata": {
      "byteLimit": 2048000,
      "rowLimit": 10000
     },
     "inputWidgets": {},
     "nuid": "b7933828-8df7-4d7c-92db-c81703d88b54",
     "showTitle": false,
     "title": ""
    }
   },
   "source": [
    "####3.4.- Eliminar las columnas: 'Dirección de Compra', 'Ciudad', 'Departamento' (5 pts)"
   ]
  },
  {
   "cell_type": "code",
   "execution_count": 0,
   "metadata": {
    "application/vnd.databricks.v1+cell": {
     "cellMetadata": {
      "byteLimit": 2048000,
      "rowLimit": 10000
     },
     "inputWidgets": {},
     "nuid": "ff46c62e-ef6c-4273-849a-b82713e025da",
     "showTitle": false,
     "title": ""
    }
   },
   "outputs": [
    {
     "name": "stdout",
     "output_type": "stream",
     "text": [
      "+--------+--------------------+--------+---------------+-------------------+---+--------------------+--------------------+\n",
      "|ID_Orden|            Producto|Cantidad|Precio_Unitario|              Fecha|Mes|           Dirección|Ciudad(Departamento)|\n",
      "+--------+--------------------+--------+---------------+-------------------+---+--------------------+--------------------+\n",
      "|  171346|Cable de Carga US...|       1|        46900.0|2019-04-04 19:25:00|  4|    631 calle Boyacá|        Armenia( QU)|\n",
      "|  171347|Parlante Google H...|       1|       159900.0|2019-04-19 07:19:00|  4|       546 calle 5ta|       Medellin( AN)|\n",
      "|  171348|AAA Batteries (4-...|       1|        12990.0|2019-04-22 22:41:00|  4|       593 calle 8va|      Manizalez( CA)|\n",
      "|  171349|Cable de Carga US...|       1|        46900.0|2019-04-09 04:59:00|  4|       571 calle 4ta|       Medellin( AN)|\n",
      "|  171350|Cable de Carga US...|       1|        46900.0|2019-04-18 09:36:00|  4|   883 calle Madison|          Neiva( HU)|\n",
      "|  171351|Cable de Carga Li...|       1|        64900.0|2019-04-21 16:44:00|  4|   988 calle Avenida|        Armenia( QU)|\n",
      "|  171352|Cable de Carga Li...|       1|        64900.0|2019-04-23 09:20:00|  4|    568 calle Rivera|         Ibagué( TO)|\n",
      "|  171353|Asus VivoBook X42...|       1|      1950900.0|2019-04-20 13:18:00|  4|   773 calle Carrera|       Medellin( AN)|\n",
      "|  171354|Cable de Carga US...|       1|        46900.0|2019-04-17 17:52:00|  4|     857 calle Pinar|         Bogotá( CU)|\n",
      "|  171355|Cable de Carga US...|       1|        46900.0|2019-04-20 10:42:00|  4|     132 calle Pinar|        Armenia( QU)|\n",
      "|  171356|Audifonos Apple A...|       1|       499900.0|2019-04-12 22:51:00|  4|58 calle Transversal|           Cali( VC)|\n",
      "|  171357|Cable de Carga Li...|       1|        64900.0|2019-04-08 22:21:00|  4|    344 calle Cherry|       Medellin( AN)|\n",
      "|  171358|Macbook Air MQD32...|       1|      2799000.0|2019-04-02 21:00:00|  4|   683 calle Madison|       Medellin( AN)|\n",
      "|  171359|Parlante Google H...|       1|       159900.0|2019-04-11 01:19:00|  4|  478 calle Americas|           Cali( VC)|\n",
      "|  171360|AAA Batteries (4-...|       1|        12990.0|2019-04-09 13:33:00|  4|       855 calle 5ta|           Cali( VC)|\n",
      "|  171361|Horno Microondas ...|       1|       309900.0|2019-04-02 10:51:00|  4|  602 calle Diagonal|         Cúcuta( NS)|\n",
      "|  171362| Samsung Galaxy A302|       1|       649900.0|2019-04-17 00:51:00|  4|      345 calle 14va|           Cali( VC)|\n",
      "|  171363|AAA Batteries (4-...|       1|        12990.0|2019-04-10 13:35:00|  4|   678 calle Kennedy|         Cúcuta( NS)|\n",
      "|  171364|Cable de Carga US...|       1|        46900.0|2019-04-20 14:54:00|  4|       721 calle 4ta|         Bogotá( CU)|\n",
      "|  171365|Motorola G8 Plus Red|       1|       729900.0|2019-04-18 16:06:00|  4|    134 calle Cherry|         Ibagué( TO)|\n",
      "+--------+--------------------+--------+---------------+-------------------+---+--------------------+--------------------+\n",
      "only showing top 20 rows\n",
      "\n"
     ]
    }
   ],
   "source": [
    "df02 = df02.drop('Dirección de Compra', 'Ciudad', 'Departamento')\n",
    "df02.show()"
   ]
  },
  {
   "cell_type": "markdown",
   "metadata": {
    "application/vnd.databricks.v1+cell": {
     "cellMetadata": {
      "byteLimit": 2048000,
      "rowLimit": 10000
     },
     "inputWidgets": {},
     "nuid": "9c573b54-15e3-4b9b-9001-bd577a5c4477",
     "showTitle": false,
     "title": ""
    }
   },
   "source": [
    "##4.- Limpieza de Datos y Análisis Exploratorio de Datos (40 pts)"
   ]
  },
  {
   "cell_type": "markdown",
   "metadata": {
    "application/vnd.databricks.v1+cell": {
     "cellMetadata": {
      "byteLimit": 2048000,
      "rowLimit": 10000
     },
     "inputWidgets": {},
     "nuid": "d52c3d62-2e76-4283-bbd1-aba599772aac",
     "showTitle": false,
     "title": ""
    }
   },
   "source": [
    "####4.1.- Se requiere una tabla que presente la cantidad de datos nulos por variable (1pts)"
   ]
  },
  {
   "cell_type": "code",
   "execution_count": 0,
   "metadata": {
    "application/vnd.databricks.v1+cell": {
     "cellMetadata": {
      "byteLimit": 2048000,
      "rowLimit": 10000
     },
     "inputWidgets": {},
     "nuid": "1eba3109-a000-43b1-8e10-bd7d3b4486a0",
     "showTitle": false,
     "title": ""
    }
   },
   "outputs": [
    {
     "name": "stdout",
     "output_type": "stream",
     "text": [
      "+--------+--------+--------+---------------+-----+---+---------+--------------------+\n",
      "|ID_Orden|Producto|Cantidad|Precio_Unitario|Fecha|Mes|Dirección|Ciudad(Departamento)|\n",
      "+--------+--------+--------+---------------+-----+---+---------+--------------------+\n",
      "|799     |496     |799     |799            |799  |799|496      |799                 |\n",
      "+--------+--------+--------+---------------+-----+---+---------+--------------------+\n",
      "\n"
     ]
    }
   ],
   "source": [
    "\n",
    "\n",
    "# Contar los valores nulos por columna\n",
    "null_counts = df02.select([\n",
    "    count(when(col(c).isNull(), c)).alias(c) for c in df02.columns\n",
    "])\n",
    "\n",
    "# Mostrar el resultado\n",
    "null_counts.show(truncate=False)\n"
   ]
  },
  {
   "cell_type": "markdown",
   "metadata": {
    "application/vnd.databricks.v1+cell": {
     "cellMetadata": {
      "byteLimit": 2048000,
      "rowLimit": 10000
     },
     "inputWidgets": {},
     "nuid": "8e4fa67c-6c20-498e-8323-8ffffbc5a376",
     "showTitle": false,
     "title": ""
    }
   },
   "source": [
    "####4.2.- Se requiere que los valores nulos encontrados de la variable Producto, sean cambiados por el producto más vendido (8 pts)"
   ]
  },
  {
   "cell_type": "code",
   "execution_count": 0,
   "metadata": {
    "application/vnd.databricks.v1+cell": {
     "cellMetadata": {
      "byteLimit": 2048000,
      "rowLimit": 10000
     },
     "inputWidgets": {},
     "nuid": "b4ad081d-0759-49ee-85fc-913d6441fd31",
     "showTitle": false,
     "title": ""
    }
   },
   "outputs": [
    {
     "name": "stdout",
     "output_type": "stream",
     "text": [
      "Cable de Carga USB-C P/O\n",
      "+--------+---------------------------------+--------+---------------+-------------------+---+--------------------+--------------------+\n",
      "|ID_Orden|Producto                         |Cantidad|Precio_Unitario|Fecha              |Mes|Dirección           |Ciudad(Departamento)|\n",
      "+--------+---------------------------------+--------+---------------+-------------------+---+--------------------+--------------------+\n",
      "|171346  |Cable de Carga USB-C P/O         |1       |46900.0        |2019-04-04 19:25:00|4  |631 calle Boyacá    | Armenia( QU)       |\n",
      "|171347  |Parlante Google HomeMini         |1       |159900.0       |2019-04-19 07:19:00|4  |546 calle 5ta       | Medellin( AN)      |\n",
      "|171348  |AAA Batteries (4-pack)           |1       |12990.0        |2019-04-22 22:41:00|4  |593 calle 8va       | Manizalez( CA)     |\n",
      "|171349  |Cable de Carga USB-C P/O         |1       |46900.0        |2019-04-09 04:59:00|4  |571 calle 4ta       | Medellin( AN)      |\n",
      "|171350  |Cable de Carga USB-C P/O         |1       |46900.0        |2019-04-18 09:36:00|4  |883 calle Madison   | Neiva( HU)         |\n",
      "|171351  |Cable de Carga Lightning         |1       |64900.0        |2019-04-21 16:44:00|4  |988 calle Avenida   | Armenia( QU)       |\n",
      "|171352  |Cable de Carga Lightning         |1       |64900.0        |2019-04-23 09:20:00|4  |568 calle Rivera    | Ibagué( TO)        |\n",
      "|171353  |Asus VivoBook X420FA-BV Laptop   |1       |1950900.0      |2019-04-20 13:18:00|4  |773 calle Carrera   | Medellin( AN)      |\n",
      "|171354  |Cable de Carga USB-C P/O         |1       |46900.0        |2019-04-17 17:52:00|4  |857 calle Pinar     | Bogotá( CU)        |\n",
      "|171355  |Cable de Carga USB-C P/O         |1       |46900.0        |2019-04-20 10:42:00|4  |132 calle Pinar     | Armenia( QU)       |\n",
      "|171356  |Audifonos Apple Airpods          |1       |499900.0       |2019-04-12 22:51:00|4  |58 calle Transversal| Cali( VC)          |\n",
      "|171357  |Cable de Carga Lightning         |1       |64900.0        |2019-04-08 22:21:00|4  |344 calle Cherry    | Medellin( AN)      |\n",
      "|171358  |Macbook Air MQD32E/A 128GB 13.3\" |1       |2799000.0      |2019-04-02 21:00:00|4  |683 calle Madison   | Medellin( AN)      |\n",
      "|171359  |Parlante Google HomeMini         |1       |159900.0       |2019-04-11 01:19:00|4  |478 calle Americas  | Cali( VC)          |\n",
      "|171360  |AAA Batteries (4-pack)           |1       |12990.0        |2019-04-09 13:33:00|4  |855 calle 5ta       | Cali( VC)          |\n",
      "|171361  |Horno Microondas 0.8P Samsung AGE|1       |309900.0       |2019-04-02 10:51:00|4  |602 calle Diagonal  | Cúcuta( NS)        |\n",
      "|171362  |Samsung Galaxy A302              |1       |649900.0       |2019-04-17 00:51:00|4  |345 calle 14va      | Cali( VC)          |\n",
      "|171363  |AAA Batteries (4-pack)           |1       |12990.0        |2019-04-10 13:35:00|4  |678 calle Kennedy   | Cúcuta( NS)        |\n",
      "|171364  |Cable de Carga USB-C P/O         |1       |46900.0        |2019-04-20 14:54:00|4  |721 calle 4ta       | Bogotá( CU)        |\n",
      "|171365  |Motorola G8 Plus Red             |1       |729900.0       |2019-04-18 16:06:00|4  |134 calle Cherry    | Ibagué( TO)        |\n",
      "+--------+---------------------------------+--------+---------------+-------------------+---+--------------------+--------------------+\n",
      "only showing top 20 rows\n",
      "\n"
     ]
    }
   ],
   "source": [
    "# 1. Calcular el producto más vendido\n",
    "producto_mas_vendido = df02.groupBy(\"Producto\") \\\n",
    "    .agg(count(\"Cantidad\").alias(\"Cantidad_Vendida\")) \\\n",
    "    .orderBy(col(\"Cantidad_Vendida\").desc()) \\\n",
    "    .first()[0]  # Obtiene el nombre del producto más vendido\n",
    "print(producto_mas_vendido)\n",
    "\n",
    "# 2. Reemplazar los valores nulos en la columna Producto\n",
    "df02 = df02.withColumn(\n",
    "    \"Producto\",\n",
    "    when(col(\"Producto\").isNull(), producto_mas_vendido).otherwise(col(\"Producto\"))\n",
    ")\n",
    "\n",
    "# Mostrar el DataFrame actualizado\n",
    "df02.show(truncate=False)"
   ]
  },
  {
   "cell_type": "code",
   "execution_count": 0,
   "metadata": {
    "application/vnd.databricks.v1+cell": {
     "cellMetadata": {
      "byteLimit": 2048000,
      "rowLimit": 10000
     },
     "inputWidgets": {},
     "nuid": "370b0d4a-b09b-48c5-a6ad-825e44c64509",
     "showTitle": false,
     "title": ""
    }
   },
   "outputs": [
    {
     "name": "stdout",
     "output_type": "stream",
     "text": [
      "+--------+--------+--------+---------------+-----+---+---------+--------------------+\n",
      "|ID_Orden|Producto|Cantidad|Precio_Unitario|Fecha|Mes|Dirección|Ciudad(Departamento)|\n",
      "+--------+--------+--------+---------------+-----+---+---------+--------------------+\n",
      "|799     |0       |799     |799            |799  |799|496      |799                 |\n",
      "+--------+--------+--------+---------------+-----+---+---------+--------------------+\n",
      "\n"
     ]
    }
   ],
   "source": [
    "# Contar los valores nulos por columna\n",
    "null_counts = df02.select([\n",
    "    count(when(col(c).isNull(), c)).alias(c) for c in df02.columns\n",
    "])\n",
    "\n",
    "# Mostrar el resultado\n",
    "null_counts.show(truncate=False)"
   ]
  },
  {
   "cell_type": "markdown",
   "metadata": {
    "application/vnd.databricks.v1+cell": {
     "cellMetadata": {
      "byteLimit": 2048000,
      "rowLimit": 10000
     },
     "inputWidgets": {},
     "nuid": "1d5a83c7-943c-44f3-b730-530e552e5a40",
     "showTitle": false,
     "title": ""
    }
   },
   "source": [
    "####4.3.-Se requiere saber el promedio de precios de cada Producto (1 pts)"
   ]
  },
  {
   "cell_type": "code",
   "execution_count": 0,
   "metadata": {
    "application/vnd.databricks.v1+cell": {
     "cellMetadata": {
      "byteLimit": 2048000,
      "rowLimit": 10000
     },
     "inputWidgets": {},
     "nuid": "7cb9bb1f-05eb-4ed9-ba4e-ee2ee540ea34",
     "showTitle": false,
     "title": ""
    }
   },
   "outputs": [
    {
     "name": "stdout",
     "output_type": "stream",
     "text": [
      "+---------------------------------+---------------+\n",
      "|Producto                         |Promedio_Precio|\n",
      "+---------------------------------+---------------+\n",
      "|AA Batteries (4-pack)            |13800.0        |\n",
      "|AAA Batteries (4-pack)           |12990.0        |\n",
      "|Asus VivoBook X420FA-BV Laptop   |1950900.0      |\n",
      "|Audifonos Apple Airpods          |499900.0       |\n",
      "|Audifonos Bose SoundSport        |399900.0       |\n",
      "|Cable de Carga Lightning         |64900.0        |\n",
      "|Cable de Carga USB-C P/O         |46900.0        |\n",
      "|Freidora Air Fryer Kalley K-MAF25|198849.0       |\n",
      "|Freidora Saludable B&D 3.5 Litros|229900.0       |\n",
      "|Horno Microondas 0.8P Samsung AGE|309900.0       |\n",
      "|LG Lavadora 19Kg Inv WT19        |1646900.0      |\n",
      "|LG Secadora Carga Frontal        |1646900.0      |\n",
      "|Macbook Air MQD32E/A 128GB 13.3\" |2799000.0      |\n",
      "|Motorola G8 Plus Red             |729900.0       |\n",
      "|Multiolla Oster 0150 Negra PE    |299900.0       |\n",
      "|Parlante Google HomeMini         |159900.0       |\n",
      "|Producto                         |null           |\n",
      "|Samsung Galaxy A20S              |489900.0       |\n",
      "|Samsung Galaxy A302              |649900.0       |\n",
      "|Xiaomi REDMI Note 8              |719000.0       |\n",
      "+---------------------------------+---------------+\n",
      "\n"
     ]
    }
   ],
   "source": [
    "# Calcular el promedio de precios de cada producto\n",
    "promedio_precios = df02.groupBy(\"Producto\") \\\n",
    "    .agg(avg(\"Precio_Unitario\").alias(\"Promedio_Precio\")) \\\n",
    "    .orderBy(\"Producto\")  # Opcional: ordenar por nombre de producto\n",
    "\n",
    "# Mostrar el resultado\n",
    "promedio_precios.show(truncate=False)"
   ]
  },
  {
   "cell_type": "markdown",
   "metadata": {
    "application/vnd.databricks.v1+cell": {
     "cellMetadata": {
      "byteLimit": 2048000,
      "rowLimit": 10000
     },
     "inputWidgets": {},
     "nuid": "cf4a73c4-9b9e-4795-96e3-64517a64c1d3",
     "showTitle": false,
     "title": ""
    }
   },
   "source": [
    "####4.4.- Se requiere que se sustituya los valores Nulos de la variable 'Precio_Unitario', cuando la variable Producto sea:\n",
    "          - Cable de Carga USB-C P/O\n",
    "          - Cable de Carga Lightning\n",
    "####por el precio promedio de los dos productos anteriores (8 pts)."
   ]
  },
  {
   "cell_type": "code",
   "execution_count": 0,
   "metadata": {
    "application/vnd.databricks.v1+cell": {
     "cellMetadata": {
      "byteLimit": 2048000,
      "rowLimit": 10000
     },
     "inputWidgets": {},
     "nuid": "cf5bedbb-371f-4881-bbe9-132e0cfa0e67",
     "showTitle": false,
     "title": ""
    }
   },
   "outputs": [],
   "source": [
    "# 1. Calcular el precio promedio de los productos especificados\n",
    "promedio_precio = df02.filter(col(\"Producto\").isin([\"Cable de Carga USB-C P/O\", \"Cable de Carga Lightning\"])) \\\n",
    "    .agg(avg(\"Precio_Unitario\").alias(\"Promedio_Precio\")) \\\n",
    "    .first()[0]  # Obtener el precio promedio\n",
    "\n",
    "# 2. Reemplazar los valores nulos en 'Precio_Unitario'\n",
    "df02 = df02.withColumn(\n",
    "    \"Precio_Unitario\",\n",
    "    when((col(\"Producto\").isin([\"Cable de Carga USB-C P/O\", \"Cable de Carga Lightning\"])) & col(\"Precio_Unitario\").isNull(), promedio_precio)\n",
    "    .otherwise(col(\"Precio_Unitario\"))\n",
    ")"
   ]
  },
  {
   "cell_type": "code",
   "execution_count": 0,
   "metadata": {
    "application/vnd.databricks.v1+cell": {
     "cellMetadata": {
      "byteLimit": 2048000,
      "rowLimit": 10000
     },
     "inputWidgets": {},
     "nuid": "80e2a1a8-fee1-4f55-a3ca-94fcf6e73bbb",
     "showTitle": false,
     "title": ""
    }
   },
   "outputs": [
    {
     "name": "stdout",
     "output_type": "stream",
     "text": [
      "+--------+--------+--------+---------------+-----+---+---------+--------------------+\n",
      "|ID_Orden|Producto|Cantidad|Precio_Unitario|Fecha|Mes|Dirección|Ciudad(Departamento)|\n",
      "+--------+--------+--------+---------------+-----+---+---------+--------------------+\n",
      "|799     |0       |799     |303            |799  |799|496      |799                 |\n",
      "+--------+--------+--------+---------------+-----+---+---------+--------------------+\n",
      "\n"
     ]
    }
   ],
   "source": [
    "# Contar los valores nulos por columna\n",
    "null_counts = df02.select([\n",
    "    count(when(col(c).isNull(), c)).alias(c) for c in df02.columns\n",
    "])\n",
    "\n",
    "# Mostrar el resultado\n",
    "null_counts.show(truncate=False)"
   ]
  },
  {
   "cell_type": "markdown",
   "metadata": {
    "application/vnd.databricks.v1+cell": {
     "cellMetadata": {
      "byteLimit": 2048000,
      "rowLimit": 10000
     },
     "inputWidgets": {},
     "nuid": "f9edcde0-34c7-4c6f-8dcb-4fd31da2ba65",
     "showTitle": false,
     "title": ""
    }
   },
   "source": [
    "####4.5.- ¿Cúantos valores nulos quedaron de la variable Precio_Unitario? (1pts)"
   ]
  },
  {
   "cell_type": "markdown",
   "metadata": {
    "application/vnd.databricks.v1+cell": {
     "cellMetadata": {
      "byteLimit": 2048000,
      "rowLimit": 10000
     },
     "inputWidgets": {},
     "nuid": "d22f1e2b-4a63-4b8d-abf3-3ce94cddcf6e",
     "showTitle": false,
     "title": ""
    }
   },
   "source": [
    "De acuerdo a la consulta a nulos de el recuadro anterior quedan  *303* valores nulos de los *799* originales. es decir que la limpieza cambio  *496* valores nulos"
   ]
  },
  {
   "cell_type": "markdown",
   "metadata": {
    "application/vnd.databricks.v1+cell": {
     "cellMetadata": {
      "byteLimit": 2048000,
      "rowLimit": 10000
     },
     "inputWidgets": {},
     "nuid": "a203cab3-c98c-46b6-ab1c-9ddd7831db20",
     "showTitle": false,
     "title": ""
    }
   },
   "source": [
    "####4.6.- Elimine los valores nulos restantes del Dataframe (verifique) (2pts)"
   ]
  },
  {
   "cell_type": "code",
   "execution_count": 0,
   "metadata": {
    "application/vnd.databricks.v1+cell": {
     "cellMetadata": {
      "byteLimit": 2048000,
      "rowLimit": 10000
     },
     "inputWidgets": {},
     "nuid": "40d4de08-296f-4e71-b47a-c76c36e92a15",
     "showTitle": false,
     "title": ""
    }
   },
   "outputs": [],
   "source": [
    "# 3. Eliminar los valores nulos restantes\n",
    "df02 = df02.dropna()"
   ]
  },
  {
   "cell_type": "code",
   "execution_count": 0,
   "metadata": {
    "application/vnd.databricks.v1+cell": {
     "cellMetadata": {
      "byteLimit": 2048000,
      "rowLimit": 10000
     },
     "inputWidgets": {},
     "nuid": "6487e572-64bc-4c80-a178-d2b2fe823cc2",
     "showTitle": false,
     "title": ""
    }
   },
   "outputs": [
    {
     "name": "stdout",
     "output_type": "stream",
     "text": [
      "+--------+--------+--------+---------------+-----+---+---------+--------------------+\n",
      "|ID_Orden|Producto|Cantidad|Precio_Unitario|Fecha|Mes|Dirección|Ciudad(Departamento)|\n",
      "+--------+--------+--------+---------------+-----+---+---------+--------------------+\n",
      "|0       |0       |0       |0              |0    |0  |0        |0                   |\n",
      "+--------+--------+--------+---------------+-----+---+---------+--------------------+\n",
      "\n"
     ]
    }
   ],
   "source": [
    "# Contar los valores nulos por columna\n",
    "null_counts = df02.select([\n",
    "    count(when(col(c).isNull(), c)).alias(c) for c in df02.columns\n",
    "])\n",
    "\n",
    "# Mostrar el resultado\n",
    "null_counts.show(truncate=False)"
   ]
  },
  {
   "cell_type": "markdown",
   "metadata": {
    "application/vnd.databricks.v1+cell": {
     "cellMetadata": {
      "byteLimit": 2048000,
      "rowLimit": 10000
     },
     "inputWidgets": {},
     "nuid": "083dd361-9e48-4ae9-a6ca-25534667957d",
     "showTitle": false,
     "title": ""
    }
   },
   "source": [
    "####4.7.- Haga una tabla y un gráfico histograma de cantidad de ventas por mes (8pts)"
   ]
  },
  {
   "cell_type": "code",
   "execution_count": 0,
   "metadata": {
    "application/vnd.databricks.v1+cell": {
     "cellMetadata": {
      "byteLimit": 2048000,
      "rowLimit": 10000
     },
     "inputWidgets": {},
     "nuid": "64f54a39-6c70-425d-b7d1-eb5e31d185de",
     "showTitle": false,
     "title": ""
    }
   },
   "outputs": [
    {
     "name": "stdout",
     "output_type": "stream",
     "text": [
      "+---+---------------+\n",
      "|Mes|Cantidad_Ventas|\n",
      "+---+---------------+\n",
      "|1  |12505          |\n",
      "|2  |10309          |\n",
      "|3  |8528           |\n",
      "|4  |11691          |\n",
      "|5  |13002          |\n",
      "|6  |16631          |\n",
      "|7  |14193          |\n",
      "|8  |18607          |\n",
      "|9  |3846           |\n",
      "|10 |15113          |\n",
      "|11 |15972          |\n",
      "|12 |24007          |\n",
      "+---+---------------+\n",
      "\n"
     ]
    }
   ],
   "source": [
    "# 1. Agrupar por mes y contar las ventas\n",
    "ventas_por_mes = df02.groupBy(month(\"Fecha\").alias(\"Mes\")) \\\n",
    "    .agg(count(\"ID_Orden\").alias(\"Cantidad_Ventas\")) \\\n",
    "    .orderBy(\"Mes\")\n",
    "\n",
    "# 2. Mostrar la tabla\n",
    "ventas_por_mes.show(truncate=False)"
   ]
  },
  {
   "cell_type": "code",
   "execution_count": 0,
   "metadata": {
    "application/vnd.databricks.v1+cell": {
     "cellMetadata": {
      "byteLimit": 2048000,
      "rowLimit": 10000
     },
     "inputWidgets": {},
     "nuid": "c39e358a-cd92-4930-88f1-db8b242a7d09",
     "showTitle": false,
     "title": ""
    }
   },
   "outputs": [
    {
     "data": {
      "image/png": "[encoded data removed]"
     },
     "metadata": {
      "application/vnd.databricks.v1+output": {
       "addedWidgets": {},
       "arguments": {},
       "data": "data:image/png;base64,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\n",
       "datasetInfos": [],
       "metadata": {},
       "removedWidgets": [],
       "type": "image"
      }
     },
     "output_type": "display_data"
    }
   ],
   "source": [
    "# Convertir a Pandas para graficar\n",
    "ventas_por_mes_pd = ventas_por_mes.toPandas()\n",
    "\n",
    "# 3. Crear un gráfico de histograma\n",
    "plt.figure(figsize=(10, 6))\n",
    "plt.bar(ventas_por_mes_pd[\"Mes\"], ventas_por_mes_pd[\"Cantidad_Ventas\"], color='skyblue')\n",
    "plt.xlabel(\"Mes\")\n",
    "plt.ylabel(\"Cantidad de Ventas\")\n",
    "plt.title(\"Cantidad de Ventas por Mes\")\n",
    "plt.xticks(ventas_por_mes_pd[\"Mes\"])  # Para mostrar todos los meses\n",
    "plt.grid(axis='y')\n",
    "\n",
    "# Mostrar el gráfico\n",
    "plt.show()"
   ]
  },
  {
   "cell_type": "markdown",
   "metadata": {
    "application/vnd.databricks.v1+cell": {
     "cellMetadata": {
      "byteLimit": 2048000,
      "rowLimit": 10000
     },
     "inputWidgets": {},
     "nuid": "ccea37e2-349d-4002-a0b1-316219c9408c",
     "showTitle": false,
     "title": ""
    }
   },
   "source": [
    "####4.8.- Presente un resumen estadístico del dataframe (1pts)"
   ]
  },
  {
   "cell_type": "code",
   "execution_count": 0,
   "metadata": {
    "application/vnd.databricks.v1+cell": {
     "cellMetadata": {
      "byteLimit": 2048000,
      "rowLimit": 10000
     },
     "inputWidgets": {},
     "nuid": "542ee0db-7540-4410-b3e4-95496e32159d",
     "showTitle": false,
     "title": ""
    }
   },
   "outputs": [
    {
     "name": "stdout",
     "output_type": "stream",
     "text": [
      "+-------+------------------+---------------------+------------------+-----------------+------------------+----------------+--------------------+\n",
      "|summary|ID_Orden          |Producto             |Cantidad          |Precio_Unitario  |Mes               |Dirección       |Ciudad(Departamento)|\n",
      "+-------+------------------+---------------------+------------------+-----------------+------------------+----------------+--------------------+\n",
      "|count  |164404            |164404               |164404            |164404           |164404            |164404          |164404              |\n",
      "|mean   |220325.19272645435|null                 |1.1008004671419187|333562.6252098489|7.104413517919272 |null            |null                |\n",
      "|stddev |45683.163051430776|null                 |0.3854176568137229|535070.6738140973|3.5244336335174045|null            |null                |\n",
      "|min    |141234            |AA Batteries (4-pack)|1                 |12990.0          |1                 |1 calle 10ma    | Armenia( QU)       |\n",
      "|max    |299481            |Xiaomi REDMI Note 8  |8                 |2799000.0        |12                |999 calle Willow| Neiva( HU)         |\n",
      "+-------+------------------+---------------------+------------------+-----------------+------------------+----------------+--------------------+\n",
      "\n"
     ]
    }
   ],
   "source": [
    "# Obtener un resumen estadístico del DataFrame\n",
    "resumen_estadistico = df02.describe()\n",
    "\n",
    "# Mostrar el resumen estadístico\n",
    "resumen_estadistico.show(truncate=False)"
   ]
  },
  {
   "cell_type": "markdown",
   "metadata": {
    "application/vnd.databricks.v1+cell": {
     "cellMetadata": {
      "byteLimit": 2048000,
      "rowLimit": 10000
     },
     "inputWidgets": {},
     "nuid": "79a35c5c-95ad-47c0-bbda-5a1acc27d00e",
     "showTitle": false,
     "title": ""
    }
   },
   "source": [
    "####4.9.- Se requiere presentar la cantidad de ventas por Ciudad(Departamento) y hacer un histograma (8pts)."
   ]
  },
  {
   "cell_type": "code",
   "execution_count": 0,
   "metadata": {
    "application/vnd.databricks.v1+cell": {
     "cellMetadata": {
      "byteLimit": 2048000,
      "rowLimit": 10000
     },
     "inputWidgets": {},
     "nuid": "8bdafae7-cf8b-4341-af0d-dd8a509dcc90",
     "showTitle": false,
     "title": ""
    }
   },
   "outputs": [
    {
     "name": "stdout",
     "output_type": "stream",
     "text": [
      "+--------------------+---------------+\n",
      "|Ciudad(Departamento)|Cantidad_Ventas|\n",
      "+--------------------+---------------+\n",
      "| Medellin( AN)      |39476          |\n",
      "| Armenia( QU)       |26298          |\n",
      "| Cúcuta( NS)        |21996          |\n",
      "| Bogotá( CU)        |17674          |\n",
      "| Cali( VC)          |13261          |\n",
      "| Manizalez( CA)     |13031          |\n",
      "| Ibagué( TO)        |13030          |\n",
      "| Barranquilla( AT)  |8840           |\n",
      "| Bucaramanga( SA)   |8618           |\n",
      "| Neiva( HU)         |2180           |\n",
      "+--------------------+---------------+\n",
      "\n"
     ]
    }
   ],
   "source": [
    "# 1. Agrupar por Ciudad(Departamento) y contar las ventas\n",
    "ventas_por_ciudad = df02.groupBy(\"Ciudad(Departamento)\") \\\n",
    "    .agg(count(\"ID_Orden\").alias(\"Cantidad_Ventas\")) \\\n",
    "    .orderBy(\"Cantidad_Ventas\", ascending=False)  # ordenar por cantidad de ventas\n",
    "\n",
    "# 2. Mostrar la tabla\n",
    "ventas_por_ciudad.show(truncate=False)"
   ]
  },
  {
   "cell_type": "code",
   "execution_count": 0,
   "metadata": {
    "application/vnd.databricks.v1+cell": {
     "cellMetadata": {
      "byteLimit": 2048000,
      "rowLimit": 10000
     },
     "inputWidgets": {},
     "nuid": "8a7a4057-f996-4dc2-aea2-3728dd909050",
     "showTitle": false,
     "title": ""
    }
   },
   "outputs": [
    {
     "data": {
      "image/png": "[encoded data removed]"
     },
     "metadata": {
      "application/vnd.databricks.v1+output": {
       "addedWidgets": {},
       "arguments": {},
       "data": "data:image/png;base64,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\n",
       "datasetInfos": [],
       "metadata": {},
       "removedWidgets": [],
       "type": "image"
      }
     },
     "output_type": "display_data"
    }
   ],
   "source": [
    "# Convertir a Pandas para graficar\n",
    "ventas_por_ciudad_pd = ventas_por_ciudad.toPandas()\n",
    "\n",
    "# 3. Crear un gráfico de histograma\n",
    "plt.figure(figsize=(12, 6))\n",
    "plt.bar(ventas_por_ciudad_pd[\"Ciudad(Departamento)\"], ventas_por_ciudad_pd[\"Cantidad_Ventas\"], color='lightgreen')\n",
    "plt.xlabel(\"Ciudad (Departamento)\")\n",
    "plt.ylabel(\"Cantidad de Ventas\")\n",
    "plt.title(\"Cantidad de Ventas por Ciudad (Departamento)\")\n",
    "plt.xticks(rotation=45, ha='right')  # Rotar etiquetas para mejor legibilidad\n",
    "plt.grid(axis='y')\n",
    "\n",
    "# Mostrar el gráfico\n",
    "plt.tight_layout()  # Ajustar el layout\n",
    "plt.show()"
   ]
  },
  {
   "cell_type": "markdown",
   "metadata": {
    "application/vnd.databricks.v1+cell": {
     "cellMetadata": {
      "byteLimit": 2048000,
      "rowLimit": 10000
     },
     "inputWidgets": {},
     "nuid": "ce402d51-42db-45b2-a3d4-d994765b8542",
     "showTitle": false,
     "title": ""
    }
   },
   "source": [
    "##5.-Responda justificando las siguientes preguntas (30 pts):\n",
    "#### 5.1.- Escriba 5 observaciones de la gráfica *4.7* (10 pts)"
   ]
  },
  {
   "cell_type": "markdown",
   "metadata": {
    "application/vnd.databricks.v1+cell": {
     "cellMetadata": {
      "byteLimit": 2048000,
      "rowLimit": 10000
     },
     "inputWidgets": {},
     "nuid": "b1cb24d5-be5c-41dd-897c-0ed4f2e3e0b7",
     "showTitle": false,
     "title": ""
    }
   },
   "source": [
    "- El mes con más venats fue diciembre (12) con un poco menos de 25000 ventas\n",
    "- El mes con menos ventas fue septiembre con un poco menos de 5000 ventas\n",
    "- Junio (6), Julio (7), Octubre (10) & Noviembre (11) Tuvieron una cantidad de ventas casi iguales\n",
    "- El mayor incremento de venats ocurrio de Septiembre (9) a Octubre (10)\n",
    "- El menor salto fue de Octubre (10) a Noviembre (11)"
   ]
  },
  {
   "cell_type": "markdown",
   "metadata": {
    "application/vnd.databricks.v1+cell": {
     "cellMetadata": {
      "byteLimit": 2048000,
      "rowLimit": 10000
     },
     "inputWidgets": {},
     "nuid": "033d8864-e5ae-43b1-b887-ef02261a9ad9",
     "showTitle": false,
     "title": ""
    }
   },
   "source": [
    "#### 5.2.-¿Cúal fue la ciudad que más productos vendió? (5 pts)"
   ]
  },
  {
   "cell_type": "markdown",
   "metadata": {
    "application/vnd.databricks.v1+cell": {
     "cellMetadata": {
      "byteLimit": 2048000,
      "rowLimit": 10000
     },
     "inputWidgets": {},
     "nuid": "c0daaf1b-581f-403b-a91e-8d6d79b352c7",
     "showTitle": false,
     "title": ""
    }
   },
   "source": [
    "La ciudad que mas vendio fue la de Medellín ubicada en Antioquia, con un poco menos de 40000 ventas."
   ]
  },
  {
   "cell_type": "markdown",
   "metadata": {
    "application/vnd.databricks.v1+cell": {
     "cellMetadata": {
      "byteLimit": 2048000,
      "rowLimit": 10000
     },
     "inputWidgets": {},
     "nuid": "ae4a961b-df76-4ad6-a459-06839d946fd2",
     "showTitle": false,
     "title": ""
    }
   },
   "source": [
    "#### 5.3.-¿Cúal es el producto más vendido? (5 pts)"
   ]
  },
  {
   "cell_type": "markdown",
   "metadata": {
    "application/vnd.databricks.v1+cell": {
     "cellMetadata": {
      "byteLimit": 2048000,
      "rowLimit": 10000
     },
     "inputWidgets": {},
     "nuid": "4813a414-47b0-4a95-86b9-766ca6a44fbb",
     "showTitle": false,
     "title": ""
    }
   },
   "source": [
    "Usando los estadisticos del punto *4.8* sabemos que el producto mas vendido fue _'AA Batteries (4-pack)'_."
   ]
  },
  {
   "cell_type": "markdown",
   "metadata": {
    "application/vnd.databricks.v1+cell": {
     "cellMetadata": {
      "byteLimit": 2048000,
      "rowLimit": 10000
     },
     "inputWidgets": {},
     "nuid": "7d403ad9-f062-4b99-8861-fa569177daf8",
     "showTitle": false,
     "title": ""
    }
   },
   "source": [
    "#### 5.4.-¿Cúal es el producto menos vendido? (5 pts)"
   ]
  },
  {
   "cell_type": "markdown",
   "metadata": {
    "application/vnd.databricks.v1+cell": {
     "cellMetadata": {
      "byteLimit": 2048000,
      "rowLimit": 10000
     },
     "inputWidgets": {},
     "nuid": "41fc0127-3857-4680-8979-24d074a83247",
     "showTitle": false,
     "title": ""
    }
   },
   "source": [
    "Usando los estadisticos del punto *4.8* sabemos que el producto menos vendido fue _'Xiaomi REDMI Note 8'_."
   ]
  },
  {
   "cell_type": "markdown",
   "metadata": {
    "application/vnd.databricks.v1+cell": {
     "cellMetadata": {
      "byteLimit": 2048000,
      "rowLimit": 10000
     },
     "inputWidgets": {},
     "nuid": "abceabb4-4324-463c-81c0-d9ad8ae6612d",
     "showTitle": false,
     "title": ""
    }
   },
   "source": [
    "#### 5.5.-¿Cúal es la proporción de ventas de la ciudad que más vendió productos? (5 pts)"
   ]
  },
  {
   "cell_type": "code",
   "execution_count": 0,
   "metadata": {
    "application/vnd.databricks.v1+cell": {
     "cellMetadata": {
      "byteLimit": 2048000,
      "rowLimit": 10000
     },
     "inputWidgets": {},
     "nuid": "272de571-e79d-40cc-9d88-a4c06df8d0d8",
     "showTitle": false,
     "title": ""
    }
   },
   "outputs": [
    {
     "name": "stdout",
     "output_type": "stream",
     "text": [
      "Ciudad con más ventas:  Medellin( AN)\n",
      "Cantidad de ventas en esa ciudad: 39476\n",
      "Total de ventas: 164404\n",
      "Proporción de ventas de la ciudad que más vendió: 24.01%\n"
     ]
    }
   ],
   "source": [
    "# 1. Agrupar por Ciudad(Departamento) y contar las ventas\n",
    "ventas_por_ciudad = df02.groupBy(\"Ciudad(Departamento)\") \\\n",
    "    .agg(count(\"ID_Orden\").alias(\"Cantidad_Ventas\"))\n",
    "\n",
    "# 2. Obtener la ciudad con la mayor cantidad de ventas\n",
    "ciudad_max_ventas = ventas_por_ciudad.orderBy(col(\"Cantidad_Ventas\").desc()).first()\n",
    "\n",
    "# 3. Calcular la cantidad total de ventas\n",
    "total_ventas = df02.count()\n",
    "\n",
    "# 4. Calcular la proporción de ventas de la ciudad que más vendió\n",
    "proporcion = ciudad_max_ventas.Cantidad_Ventas / total_ventas if total_ventas > 0 else 0\n",
    "\n",
    "# Mostrar resultados\n",
    "print(f\"Ciudad con más ventas: {ciudad_max_ventas['Ciudad(Departamento)']}\")\n",
    "print(f\"Cantidad de ventas en esa ciudad: {ciudad_max_ventas['Cantidad_Ventas']}\")\n",
    "print(f\"Total de ventas: {total_ventas}\")\n",
    "print(f\"Proporción de ventas de la ciudad que más vendió: {proporcion:.2%}\")"
   ]
  },
  {
   "cell_type": "markdown",
   "metadata": {
    "application/vnd.databricks.v1+cell": {
     "cellMetadata": {
      "byteLimit": 2048000,
      "rowLimit": 10000
     },
     "inputWidgets": {},
     "nuid": "c99d39f3-d1b2-4f0a-b13e-1f7c87483b43",
     "showTitle": false,
     "title": ""
    }
   },
   "source": [
    "Se podia sacar a mano pero decidi usar las tablas generasdas en el numeral 4 para sacarlo con copdigo. Podeemos ver qeu la proporción de ventas de medellin la cual fue la ciudad con más ventas fue de 24.01% lo que equivale a casi 1/4 de las ventas totales."
   ]
  }
 ],
 "metadata": {
  "application/vnd.databricks.v1+notebook": {
   "dashboards": [],
   "environmentMetadata": null,
   "language": "python",
   "notebookMetadata": {
    "pythonIndentUnit": 4
   },
   "notebookName": "Parcial_A_Datos",
   "widgets": {}
  },
  "kernelspec": {
   "display_name": "Python 3 (ipykernel)",
   "language": "python",
   "name": "python3"
  },
  "language_info": {
   "codemirror_mode": {
    "name": "ipython",
    "version": 3
   },
   "file_extension": ".py",
   "mimetype": "text/x-python",
   "name": "python",
   "nbconvert_exporter": "python",
   "pygments_lexer": "ipython3",
   "version": "3.10.12"
  }
 },
 "nbformat": 4,
 "nbformat_minor": 0
}
